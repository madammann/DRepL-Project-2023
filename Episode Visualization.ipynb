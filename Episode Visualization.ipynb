{
 "cells": [
  {
   "cell_type": "code",
   "execution_count": 1,
   "id": "d39afbe9-6135-4454-80a1-c5ceef5b5112",
   "metadata": {
    "tags": []
   },
   "outputs": [],
   "source": [
    "from model import DeepQNetwork\n",
    "from env import visualize_episodes, Environment\n",
    "import tensorflow as tf\n",
    "import numpy as np"
   ]
  },
  {
   "cell_type": "code",
   "execution_count": 2,
   "id": "0ac7cd58-c220-4b52-beeb-6bdea170e533",
   "metadata": {
    "tags": []
   },
   "outputs": [],
   "source": [
    "DEFAULT_PARAMS = {\n",
    "    'batches_per_epoch' : 1000,\n",
    "    'learning_rate' : 0.001,\n",
    "    'gamma' : 0.9,\n",
    "    'epsilon' : 0.9,\n",
    "    'epsilon_decay' : 0.97,\n",
    "    'buffer_size_in_batches' : 10000,\n",
    "    'batch_size' : 16,\n",
    "    'replay_ratio' : 0.1,\n",
    "    'polyak_avg_fac' : 0.995\n",
    "}\n",
    "\n",
    "STATIC_MLP = {\n",
    "    'epochs' : 50,\n",
    "    'visual' : False,\n",
    "    'rgb' : False,\n",
    "    'cnn_depth' : 2,\n",
    "    'mlp_layers' : 2,\n",
    "    'head_layers' : 1,\n",
    "    'filters' : 1,\n",
    "    'kernel_size' : 3,\n",
    "    'k_init' : 'glorot_uniform',\n",
    "    'b_init' : 'zeros'\n",
    "}\n",
    "\n",
    "STATIC_CNN = {\n",
    "    'epochs' : 50,\n",
    "    'visual' : True,\n",
    "    'rgb' : False,\n",
    "    'cnn_depth' : 2,\n",
    "    'mlp_layers' : 2,\n",
    "    'head_layers' : 1,\n",
    "    'filters' : 1,\n",
    "    'kernel_size' : 3,\n",
    "    'k_init' : 'glorot_uniform',\n",
    "    'b_init' : 'zeros'\n",
    "}"
   ]
  },
  {
   "cell_type": "code",
   "execution_count": 3,
   "id": "e7d5cefd-e8b5-4880-9568-dedf567a40a6",
   "metadata": {
    "tags": []
   },
   "outputs": [],
   "source": [
    "params = {key : val for key, val in list(DEFAULT_PARAMS.items())+list(STATIC_MLP.items())}\n",
    "# params = {key : val for key, val in list(DEFAULT_PARAMS.items())+list(STATIC_MLP.items())}"
   ]
  },
  {
   "cell_type": "code",
   "execution_count": 4,
   "id": "86f27e19-93e5-4fe8-8b72-a60f78a33198",
   "metadata": {
    "tags": []
   },
   "outputs": [],
   "source": [
    "model = DeepQNetwork(\n",
    "    tf.keras.optimizers.SGD(learning_rate=params['learning_rate']),\n",
    "    visual=params['visual'],\n",
    "    rgb=params['rgb'],\n",
    "    cnn_depth=params['cnn_depth'],\n",
    "    mlp_layers=params['mlp_layers'],\n",
    "    head_layers=params['head_layers'],\n",
    "    filters=params['filters'],\n",
    "    kernel_size=params['kernel_size'],\n",
    "    k_init=params['k_init'],\n",
    "    b_init=params['b_init']\n",
    ")"
   ]
  },
  {
   "cell_type": "code",
   "execution_count": 5,
   "id": "f35078cc-d8f2-4ffe-a3ed-3a9564364d6f",
   "metadata": {
    "tags": []
   },
   "outputs": [],
   "source": [
    "env = Environment(rgb=params['rgb'])"
   ]
  },
  {
   "cell_type": "code",
   "execution_count": 6,
   "id": "c32b9b54-ee6b-4dd0-83fe-03bd95ea80eb",
   "metadata": {
    "tags": []
   },
   "outputs": [],
   "source": [
    "model.load('D:/experiment_data_DREPL/','cnn_id1_ep5_')"
   ]
  },
  {
   "cell_type": "code",
   "execution_count": 9,
   "id": "c95ffd69-0088-4672-bd92-d59ade8840bd",
   "metadata": {
    "tags": []
   },
   "outputs": [],
   "source": [
    "def get_example_episodes(env, model, n=20):\n",
    "    lst = []\n",
    "    env.reset()\n",
    "    \n",
    "    for i in range(n):\n",
    "        sublst = []\n",
    "        \n",
    "        q_vals = model(tf.expand_dims(env.observation, axis=0))\n",
    "        action = int(np.argmax(tf.squeeze(q_vals).numpy()))\n",
    "        sublst += [action]\n",
    "        \n",
    "        while not env.terminal:\n",
    "            q_vals = model(tf.expand_dims(env.step(action)[0], axis=0))\n",
    "            action = int(np.argmax(tf.squeeze(q_vals).numpy()))\n",
    "            sublst += [action]\n",
    "        \n",
    "        lst += [sublst]\n",
    "        env.reset()\n",
    "    \n",
    "    return lst"
   ]
  },
  {
   "cell_type": "code",
   "execution_count": 10,
   "id": "4de5fdef-db79-434c-8bf9-46e595bfb9ac",
   "metadata": {
    "tags": []
   },
   "outputs": [],
   "source": [
    "example_episodes = get_example_episodes(env, model)"
   ]
  },
  {
   "cell_type": "code",
   "execution_count": 9,
   "id": "f139a70a-356b-44a7-9d21-137d88ccff97",
   "metadata": {
    "tags": []
   },
   "outputs": [],
   "source": [
    "visualize_episodes(example_episodes)"
   ]
  },
  {
   "cell_type": "code",
   "execution_count": 12,
   "id": "3a90dc4e-6660-4541-98ef-d34a6a8b3d92",
   "metadata": {
    "tags": []
   },
   "outputs": [],
   "source": [
    "# example_episodes"
   ]
  },
  {
   "cell_type": "code",
   "execution_count": 23,
   "id": "ab76f16a-f5e3-4c0f-809d-541ab3d79086",
   "metadata": {},
   "outputs": [
    {
     "data": {
      "text/plain": [
       "(<tf.Tensor: shape=(1,), dtype=float32, numpy=array([-2.3663082], dtype=float32)>,\n",
       " <tf.Tensor: shape=(1,), dtype=bool, numpy=array([False])>)"
      ]
     },
     "execution_count": 23,
     "metadata": {},
     "output_type": "execute_result"
    }
   ],
   "source": [
    "env.reset()\n",
    "env.step(1)[1:]"
   ]
  },
  {
   "cell_type": "code",
   "execution_count": 10,
   "id": "b3a9f0cd-6b19-4c7b-b3fc-2c8b3b2b8a16",
   "metadata": {
    "tags": []
   },
   "outputs": [],
   "source": [
    "# from PIL import Image\n",
    "\n",
    "# env = Environment(rgb=False)\n",
    "\n",
    "# env.reset()\n",
    "# img = Image.fromarray(np.squeeze(env.observation.numpy()), 'L')\n",
    "# img.show()"
   ]
  },
  {
   "cell_type": "code",
   "execution_count": null,
   "id": "671bbf72-188b-450c-bef8-9584ea9b97aa",
   "metadata": {},
   "outputs": [],
   "source": []
  }
 ],
 "metadata": {
  "kernelspec": {
   "display_name": "Python 3 (ipykernel)",
   "language": "python",
   "name": "python3"
  },
  "language_info": {
   "codemirror_mode": {
    "name": "ipython",
    "version": 3
   },
   "file_extension": ".py",
   "mimetype": "text/x-python",
   "name": "python",
   "nbconvert_exporter": "python",
   "pygments_lexer": "ipython3",
   "version": "3.8.8"
  }
 },
 "nbformat": 4,
 "nbformat_minor": 5
}
